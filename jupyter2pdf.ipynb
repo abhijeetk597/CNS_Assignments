{
  "nbformat": 4,
  "nbformat_minor": 0,
  "metadata": {
    "colab": {
      "provenance": [],
      "authorship_tag": "ABX9TyM/Cbx38o1aEkmTi7vmMMT3",
      "include_colab_link": true
    },
    "kernelspec": {
      "name": "python3",
      "display_name": "Python 3"
    },
    "language_info": {
      "name": "python"
    }
  },
  "cells": [
    {
      "cell_type": "markdown",
      "metadata": {
        "id": "view-in-github",
        "colab_type": "text"
      },
      "source": [
        "<a href=\"https://colab.research.google.com/github/abhijeetk597/Assignments/blob/main/jupyter2pdf.ipynb\" target=\"_parent\"><img src=\"https://colab.research.google.com/assets/colab-badge.svg\" alt=\"Open In Colab\"/></a>"
      ]
    },
    {
      "cell_type": "markdown",
      "source": [
        "# **Convert Jupyter Notebook to PDF**"
      ],
      "metadata": {
        "id": "zuFuLW8GR-Qw"
      }
    },
    {
      "cell_type": "markdown",
      "source": [
        "## Cell 1: **Install Dependancies**"
      ],
      "metadata": {
        "id": "Hm1XV-HfSPNK"
      }
    },
    {
      "cell_type": "code",
      "execution_count": null,
      "metadata": {
        "id": "Uk85lVa5LXDc"
      },
      "outputs": [],
      "source": [
        "!sudo apt-get install texlive-xetex texlive-fonts-recommended texlive-plain-generic"
      ]
    },
    {
      "cell_type": "markdown",
      "source": [
        "## Cell 2: **Convert your notebook to pdf**\n",
        "\n",
        "### 1. Upload your notebook to colab\n",
        "### 2. Give path of the uploaded notebook in the below cell and run.\n",
        "> e.g ```!jupyter nbconvert --to pdf /content/your_file.ipynb```"
      ],
      "metadata": {
        "id": "Jc8zbr90SZfy"
      }
    },
    {
      "cell_type": "code",
      "source": [
        "!jupyter nbconvert --to pdf"
      ],
      "metadata": {
        "id": "A6n03X3rLfu2"
      },
      "execution_count": null,
      "outputs": []
    }
  ]
}